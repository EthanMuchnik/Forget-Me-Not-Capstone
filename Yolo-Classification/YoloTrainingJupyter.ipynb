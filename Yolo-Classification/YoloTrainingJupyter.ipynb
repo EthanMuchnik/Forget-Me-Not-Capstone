{
 "cells": [
  {
   "cell_type": "code",
   "execution_count": null,
   "metadata": {},
   "outputs": [],
   "source": [
    "import zipfile\n",
    "import os\n",
    "\n",
    "zip_file = '/content/validation.zip'  # Change this to your uploaded file\n",
    "destination_folder = '/content/dataset'  # Folder where you want to extract it\n",
    "\n",
    "with zipfile.ZipFile(zip_file, 'r') as zip_ref:\n",
    "    zip_ref.extractall(destination_folder)"
   ]
  }
 ],
 "metadata": {
  "language_info": {
   "name": "python"
  }
 },
 "nbformat": 4,
 "nbformat_minor": 2
}
